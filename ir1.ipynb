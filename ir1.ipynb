{
 "cells": [
  {
   "cell_type": "raw",
   "id": "585335ba-63f4-45d6-b1ce-089ecb0d840e",
   "metadata": {
    "scrolled": true
   },
   "source": [
    "# Write a program for pre-processing of a text document such as stop word removal, stemming ."
   ]
  },
  {
   "cell_type": "code",
   "execution_count": 3,
   "id": "dad46876-8108-44b5-95bb-57b4eff5fe22",
   "metadata": {},
   "outputs": [],
   "source": [
    "import nltk\n",
    "from nltk.corpus import stopwords\n",
    "from nltk.tokenize import word_tokenize\n",
    "from nltk.stem import PorterStemmer,WordNetLemmatizer"
   ]
  },
  {
   "cell_type": "code",
   "execution_count": 13,
   "id": "452afaa8-983e-4cb8-836b-1f11af1ee482",
   "metadata": {
    "scrolled": true
   },
   "outputs": [
    {
     "name": "stderr",
     "output_type": "stream",
     "text": [
      "[nltk_data] Downloading package stopwords to /Users/sahil/nltk_data...\n",
      "[nltk_data]   Package stopwords is already up-to-date!\n",
      "[nltk_data] Downloading package punkt_tab to /Users/sahil/nltk_data...\n",
      "[nltk_data]   Unzipping tokenizers/punkt_tab.zip.\n"
     ]
    },
    {
     "data": {
      "text/plain": [
       "True"
      ]
     },
     "execution_count": 13,
     "metadata": {},
     "output_type": "execute_result"
    }
   ],
   "source": [
    "nltk.download('stopwords')\n",
    "nltk.download('punkt_tab')"
   ]
  },
  {
   "cell_type": "code",
   "execution_count": 14,
   "id": "95788d69-a094-4b06-8e86-43024ad61b65",
   "metadata": {},
   "outputs": [],
   "source": [
    "text_document = \"Text preprocessing is an essential step in natural language\""
   ]
  },
  {
   "cell_type": "code",
   "execution_count": 15,
   "id": "2835b7e7-f06a-46d0-8859-949215c005a4",
   "metadata": {},
   "outputs": [],
   "source": [
    "words = word_tokenize(text_document)"
   ]
  },
  {
   "cell_type": "code",
   "execution_count": 19,
   "id": "fc63d7fa-42d5-4912-adf4-92f46c13c674",
   "metadata": {},
   "outputs": [
    {
     "data": {
      "text/plain": [
       "['Text',\n",
       " 'preprocessing',\n",
       " 'is',\n",
       " 'an',\n",
       " 'essential',\n",
       " 'step',\n",
       " 'in',\n",
       " 'natural',\n",
       " 'language']"
      ]
     },
     "execution_count": 19,
     "metadata": {},
     "output_type": "execute_result"
    }
   ],
   "source": [
    "words"
   ]
  },
  {
   "cell_type": "code",
   "execution_count": 21,
   "id": "9c658cca-f167-4a11-b9fd-6763104c11ed",
   "metadata": {},
   "outputs": [
    {
     "data": {
      "text/plain": [
       "['Text', 'preprocessing', 'essential', 'step', 'natural', 'language']"
      ]
     },
     "execution_count": 21,
     "metadata": {},
     "output_type": "execute_result"
    }
   ],
   "source": [
    "stop_words = set(stopwords.words('english'))\n",
    "filtered_words = [word for word in words if word.lower() not in stop_words]\n",
    "filtered_words"
   ]
  },
  {
   "cell_type": "code",
   "execution_count": 23,
   "id": "cc515c96-b52d-4491-9cc3-65b6bc22ea2f",
   "metadata": {},
   "outputs": [],
   "source": [
    "stemmer = PorterStemmer()"
   ]
  },
  {
   "cell_type": "code",
   "execution_count": 25,
   "id": "6fea0b25-c3d2-4b1c-a1b2-89e05a5b8c30",
   "metadata": {},
   "outputs": [
    {
     "data": {
      "text/plain": [
       "['text', 'preprocess', 'essenti', 'step', 'natur', 'languag']"
      ]
     },
     "execution_count": 25,
     "metadata": {},
     "output_type": "execute_result"
    }
   ],
   "source": [
    "stemmed_words = [stemmer.stem(word) for word in filtered_words]\n",
    "stemmed_words"
   ]
  },
  {
   "cell_type": "code",
   "execution_count": 27,
   "id": "b048b68b-a7c6-4241-a795-2cdb5f988004",
   "metadata": {},
   "outputs": [],
   "source": [
    "lemmatizer = WordNetLemmatizer()"
   ]
  },
  {
   "cell_type": "code",
   "execution_count": 29,
   "id": "5a318c3b-4cb3-4490-8ac1-020f8213b6f7",
   "metadata": {},
   "outputs": [
    {
     "data": {
      "text/plain": [
       "['Text', 'preprocessing', 'essential', 'step', 'natural', 'language']"
      ]
     },
     "execution_count": 29,
     "metadata": {},
     "output_type": "execute_result"
    }
   ],
   "source": [
    "lemmatized_words = [lemmatizer.lemmatize(word) for word in filtered_words]\n",
    "lemmatized_words"
   ]
  },
  {
   "cell_type": "code",
   "execution_count": null,
   "id": "504c7505-3c5b-4626-ae43-1ec87632f1ba",
   "metadata": {},
   "outputs": [],
   "source": [
    "ir"
   ]
  }
 ],
 "metadata": {
  "kernelspec": {
   "display_name": "Python 3 (ipykernel)",
   "language": "python",
   "name": "python3"
  },
  "language_info": {
   "codemirror_mode": {
    "name": "ipython",
    "version": 3
   },
   "file_extension": ".py",
   "mimetype": "text/x-python",
   "name": "python",
   "nbconvert_exporter": "python",
   "pygments_lexer": "ipython3",
   "version": "3.12.7"
  }
 },
 "nbformat": 4,
 "nbformat_minor": 5
}
