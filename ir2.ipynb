{
 "cells": [
  {
   "cell_type": "markdown",
   "id": "3fea24af-1d27-4260-8869-3b3833cb3553",
   "metadata": {},
   "source": [
    "write a program for retrieval of documents using inverted files"
   ]
  },
  {
   "cell_type": "code",
   "execution_count": 2,
   "id": "53349338-31fb-48e1-86af-d4485774eb83",
   "metadata": {},
   "outputs": [],
   "source": [
    "import re\n",
    "from collections import defaultdict"
   ]
  },
  {
   "cell_type": "code",
   "execution_count": 4,
   "id": "f30da7e4-1ee9-4424-9eb5-bf92c83f7293",
   "metadata": {},
   "outputs": [],
   "source": [
    "documents = {\n",
    "1: \"This is the first document. It contains some text.\",\n",
    "2: \"The second document is longer. It also contains some text.\",\n",
    "3: \"This is the third document. It is different from the first two.\",\n",
    "}"
   ]
  },
  {
   "cell_type": "code",
   "execution_count": 12,
   "id": "9c3ea9bc-8f8a-43de-a56c-639c72a21d3d",
   "metadata": {},
   "outputs": [],
   "source": [
    "def preprocess_document(doc):\n",
    "    # Convert to lowercase and tokenize\n",
    "    tokens = re.findall(r'\\w+', doc.lower())\n",
    "    \n",
    "    # Define stop words (you can expand this list as needed)\n",
    "    stop_words = set([\"is\", \"the\", \"it\", \"and\", \"some\"])\n",
    "    \n",
    "    # Remove stop words from tokens\n",
    "    tokens = [token for token in tokens if token not in stop_words]\n",
    "    \n",
    "    return tokens\n"
   ]
  },
  {
   "cell_type": "code",
   "execution_count": 16,
   "id": "374177c8-bcdb-4dec-91fe-457201b56500",
   "metadata": {},
   "outputs": [],
   "source": [
    "inverted_index = defaultdict(list)\n",
    "for doc_id, doc_text in documents.items():\n",
    "    tokens = preprocess_document(doc_text)\n",
    "    for token in tokens:\n",
    "        inverted_index[token].append(doc_id)"
   ]
  },
  {
   "cell_type": "code",
   "execution_count": 18,
   "id": "98c3628b-abfc-436d-a1ad-a4d44874d879",
   "metadata": {},
   "outputs": [],
   "source": [
    "def retrieve_documents(query):\n",
    "    query_tokens = preprocess_document(query)\n",
    "    result = set()\n",
    "    for token in query_tokens:\n",
    "        if token in inverted_index:\n",
    "            result.update(inverted_index[token])\n",
    "    return list(result)"
   ]
  },
  {
   "cell_type": "code",
   "execution_count": 20,
   "id": "8a7b544f-197e-4a36-aa57-baa5d9e31bb5",
   "metadata": {},
   "outputs": [],
   "source": [
    "query = \"document contains text\"\n",
    "matching_documents = retrieve_documents(query)"
   ]
  },
  {
   "cell_type": "code",
   "execution_count": 24,
   "id": "281fdda7-de06-49e8-90c0-f7328292ae16",
   "metadata": {},
   "outputs": [
    {
     "name": "stdout",
     "output_type": "stream",
     "text": [
      "Matching documents for query 'document contains text':\n",
      "Document 1: This is the first document. It contains some text.\n",
      "Document 2: The second document is longer. It also contains some text.\n",
      "Document 3: This is the third document. It is different from the first two.\n"
     ]
    }
   ],
   "source": [
    "if matching_documents:\n",
    "    print(f\"Matching documents for query '{query}':\")\n",
    "    for doc_id in matching_documents:\n",
    "        print(f\"Document {doc_id}: {documents[doc_id]}\")\n",
    "else:\n",
    "    print(\"No matching documents found.\")"
   ]
  },
  {
   "cell_type": "code",
   "execution_count": null,
   "id": "15767ea4-6d0f-4b9d-ac61-ecdb826bdf10",
   "metadata": {},
   "outputs": [],
   "source": []
  }
 ],
 "metadata": {
  "kernelspec": {
   "display_name": "Python 3 (ipykernel)",
   "language": "python",
   "name": "python3"
  },
  "language_info": {
   "codemirror_mode": {
    "name": "ipython",
    "version": 3
   },
   "file_extension": ".py",
   "mimetype": "text/x-python",
   "name": "python",
   "nbconvert_exporter": "python",
   "pygments_lexer": "ipython3",
   "version": "3.12.7"
  }
 },
 "nbformat": 4,
 "nbformat_minor": 5
}
